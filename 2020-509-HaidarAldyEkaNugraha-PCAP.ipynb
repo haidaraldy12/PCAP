{
 "cells": [
  {
   "cell_type": "code",
   "execution_count": 55,
   "metadata": {},
   "outputs": [],
   "source": [
    "import pandas as pd\n",
    "import numpy as np\n",
    "import matplotlib.pyplot as plt\n",
    "import seaborn as sns\n",
    "import tensorflow as tf\n",
    "from sklearn.model_selection import train_test_split\n",
    "from sklearn.preprocessing import LabelEncoder"
   ]
  },
  {
   "cell_type": "code",
   "execution_count": 56,
   "metadata": {},
   "outputs": [],
   "source": [
    "df = pd.read_csv('datajaringan.csv')"
   ]
  },
  {
   "cell_type": "code",
   "execution_count": 57,
   "metadata": {},
   "outputs": [
    {
     "data": {
      "text/html": [
       "<div>\n",
       "<style scoped>\n",
       "    .dataframe tbody tr th:only-of-type {\n",
       "        vertical-align: middle;\n",
       "    }\n",
       "\n",
       "    .dataframe tbody tr th {\n",
       "        vertical-align: top;\n",
       "    }\n",
       "\n",
       "    .dataframe thead th {\n",
       "        text-align: right;\n",
       "    }\n",
       "</style>\n",
       "<table border=\"1\" class=\"dataframe\">\n",
       "  <thead>\n",
       "    <tr style=\"text-align: right;\">\n",
       "      <th></th>\n",
       "      <th>No.</th>\n",
       "      <th>Time</th>\n",
       "      <th>Source</th>\n",
       "      <th>Destination</th>\n",
       "      <th>Protocol</th>\n",
       "      <th>Length</th>\n",
       "      <th>Info</th>\n",
       "    </tr>\n",
       "  </thead>\n",
       "  <tbody>\n",
       "    <tr>\n",
       "      <th>0</th>\n",
       "      <td>1</td>\n",
       "      <td>0.000000</td>\n",
       "      <td>10.10.1.198</td>\n",
       "      <td>142.251.10.95</td>\n",
       "      <td>TLSv1.2</td>\n",
       "      <td>64468</td>\n",
       "      <td>Ignored Unknown Record</td>\n",
       "    </tr>\n",
       "    <tr>\n",
       "      <th>1</th>\n",
       "      <td>2</td>\n",
       "      <td>0.000548</td>\n",
       "      <td>10.10.1.198</td>\n",
       "      <td>142.251.10.95</td>\n",
       "      <td>TLSv1.2</td>\n",
       "      <td>64468</td>\n",
       "      <td>Ignored Unknown Record</td>\n",
       "    </tr>\n",
       "    <tr>\n",
       "      <th>2</th>\n",
       "      <td>3</td>\n",
       "      <td>0.001245</td>\n",
       "      <td>10.10.1.198</td>\n",
       "      <td>142.251.10.95</td>\n",
       "      <td>TLSv1.2</td>\n",
       "      <td>64468</td>\n",
       "      <td>Ignored Unknown Record</td>\n",
       "    </tr>\n",
       "    <tr>\n",
       "      <th>3</th>\n",
       "      <td>4</td>\n",
       "      <td>0.001793</td>\n",
       "      <td>10.10.1.198</td>\n",
       "      <td>142.251.10.95</td>\n",
       "      <td>TLSv1.2</td>\n",
       "      <td>64468</td>\n",
       "      <td>Ignored Unknown Record</td>\n",
       "    </tr>\n",
       "    <tr>\n",
       "      <th>4</th>\n",
       "      <td>5</td>\n",
       "      <td>0.002340</td>\n",
       "      <td>10.10.1.198</td>\n",
       "      <td>142.251.10.95</td>\n",
       "      <td>TLSv1.2</td>\n",
       "      <td>64468</td>\n",
       "      <td>Ignored Unknown Record</td>\n",
       "    </tr>\n",
       "  </tbody>\n",
       "</table>\n",
       "</div>"
      ],
      "text/plain": [
       "   No.      Time       Source    Destination Protocol  Length  \\\n",
       "0    1  0.000000  10.10.1.198  142.251.10.95  TLSv1.2   64468   \n",
       "1    2  0.000548  10.10.1.198  142.251.10.95  TLSv1.2   64468   \n",
       "2    3  0.001245  10.10.1.198  142.251.10.95  TLSv1.2   64468   \n",
       "3    4  0.001793  10.10.1.198  142.251.10.95  TLSv1.2   64468   \n",
       "4    5  0.002340  10.10.1.198  142.251.10.95  TLSv1.2   64468   \n",
       "\n",
       "                     Info  \n",
       "0  Ignored Unknown Record  \n",
       "1  Ignored Unknown Record  \n",
       "2  Ignored Unknown Record  \n",
       "3  Ignored Unknown Record  \n",
       "4  Ignored Unknown Record  "
      ]
     },
     "execution_count": 57,
     "metadata": {},
     "output_type": "execute_result"
    }
   ],
   "source": [
    "df.head()"
   ]
  },
  {
   "cell_type": "code",
   "execution_count": 58,
   "metadata": {},
   "outputs": [
    {
     "data": {
      "text/plain": [
       "No.              0\n",
       "Time             0\n",
       "Source           0\n",
       "Destination    336\n",
       "Protocol         0\n",
       "Length           0\n",
       "Info             0\n",
       "dtype: int64"
      ]
     },
     "execution_count": 58,
     "metadata": {},
     "output_type": "execute_result"
    }
   ],
   "source": [
    "df.isna().sum()"
   ]
  },
  {
   "cell_type": "code",
   "execution_count": 59,
   "metadata": {},
   "outputs": [
    {
     "name": "stdout",
     "output_type": "stream",
     "text": [
      "<class 'pandas.core.frame.DataFrame'>\n",
      "RangeIndex: 247821 entries, 0 to 247820\n",
      "Data columns (total 7 columns):\n",
      " #   Column       Non-Null Count   Dtype  \n",
      "---  ------       --------------   -----  \n",
      " 0   No.          247821 non-null  int64  \n",
      " 1   Time         247821 non-null  float64\n",
      " 2   Source       247821 non-null  object \n",
      " 3   Destination  247485 non-null  object \n",
      " 4   Protocol     247821 non-null  object \n",
      " 5   Length       247821 non-null  int64  \n",
      " 6   Info         247821 non-null  object \n",
      "dtypes: float64(1), int64(2), object(4)\n",
      "memory usage: 13.2+ MB\n"
     ]
    }
   ],
   "source": [
    "df.info()"
   ]
  },
  {
   "cell_type": "code",
   "execution_count": 60,
   "metadata": {},
   "outputs": [
    {
     "data": {
      "text/plain": [
       "0"
      ]
     },
     "execution_count": 60,
     "metadata": {},
     "output_type": "execute_result"
    }
   ],
   "source": [
    "df.duplicated().sum()"
   ]
  },
  {
   "cell_type": "code",
   "execution_count": 61,
   "metadata": {},
   "outputs": [],
   "source": [
    "df = df.dropna()"
   ]
  },
  {
   "cell_type": "code",
   "execution_count": 62,
   "metadata": {},
   "outputs": [
    {
     "data": {
      "text/plain": [
       "No.            0\n",
       "Time           0\n",
       "Source         0\n",
       "Destination    0\n",
       "Protocol       0\n",
       "Length         0\n",
       "Info           0\n",
       "dtype: int64"
      ]
     },
     "execution_count": 62,
     "metadata": {},
     "output_type": "execute_result"
    }
   ],
   "source": [
    "df.isna().sum()"
   ]
  },
  {
   "cell_type": "code",
   "execution_count": 63,
   "metadata": {},
   "outputs": [
    {
     "name": "stdout",
     "output_type": "stream",
     "text": [
      "<class 'pandas.core.frame.DataFrame'>\n",
      "Int64Index: 247485 entries, 0 to 247820\n",
      "Data columns (total 7 columns):\n",
      " #   Column       Non-Null Count   Dtype  \n",
      "---  ------       --------------   -----  \n",
      " 0   No.          247485 non-null  int64  \n",
      " 1   Time         247485 non-null  float64\n",
      " 2   Source       247485 non-null  object \n",
      " 3   Destination  247485 non-null  object \n",
      " 4   Protocol     247485 non-null  object \n",
      " 5   Length       247485 non-null  int64  \n",
      " 6   Info         247485 non-null  object \n",
      "dtypes: float64(1), int64(2), object(4)\n",
      "memory usage: 15.1+ MB\n"
     ]
    }
   ],
   "source": [
    "df.info()"
   ]
  },
  {
   "cell_type": "code",
   "execution_count": 64,
   "metadata": {},
   "outputs": [
    {
     "data": {
      "text/plain": [
       "(247485, 7)"
      ]
     },
     "execution_count": 64,
     "metadata": {},
     "output_type": "execute_result"
    }
   ],
   "source": [
    "df.shape"
   ]
  },
  {
   "cell_type": "code",
   "execution_count": 65,
   "metadata": {},
   "outputs": [
    {
     "data": {
      "text/html": [
       "<div>\n",
       "<style scoped>\n",
       "    .dataframe tbody tr th:only-of-type {\n",
       "        vertical-align: middle;\n",
       "    }\n",
       "\n",
       "    .dataframe tbody tr th {\n",
       "        vertical-align: top;\n",
       "    }\n",
       "\n",
       "    .dataframe thead th {\n",
       "        text-align: right;\n",
       "    }\n",
       "</style>\n",
       "<table border=\"1\" class=\"dataframe\">\n",
       "  <thead>\n",
       "    <tr style=\"text-align: right;\">\n",
       "      <th></th>\n",
       "      <th>No.</th>\n",
       "      <th>Time</th>\n",
       "      <th>Source</th>\n",
       "      <th>Destination</th>\n",
       "      <th>Protocol</th>\n",
       "      <th>Length</th>\n",
       "      <th>Info</th>\n",
       "    </tr>\n",
       "  </thead>\n",
       "  <tbody>\n",
       "    <tr>\n",
       "      <th>0</th>\n",
       "      <td>1</td>\n",
       "      <td>0.000000</td>\n",
       "      <td>10.10.1.198</td>\n",
       "      <td>142.251.10.95</td>\n",
       "      <td>TLSv1.2</td>\n",
       "      <td>64468</td>\n",
       "      <td>Ignored Unknown Record</td>\n",
       "    </tr>\n",
       "    <tr>\n",
       "      <th>1</th>\n",
       "      <td>2</td>\n",
       "      <td>0.000548</td>\n",
       "      <td>10.10.1.198</td>\n",
       "      <td>142.251.10.95</td>\n",
       "      <td>TLSv1.2</td>\n",
       "      <td>64468</td>\n",
       "      <td>Ignored Unknown Record</td>\n",
       "    </tr>\n",
       "    <tr>\n",
       "      <th>2</th>\n",
       "      <td>3</td>\n",
       "      <td>0.001245</td>\n",
       "      <td>10.10.1.198</td>\n",
       "      <td>142.251.10.95</td>\n",
       "      <td>TLSv1.2</td>\n",
       "      <td>64468</td>\n",
       "      <td>Ignored Unknown Record</td>\n",
       "    </tr>\n",
       "    <tr>\n",
       "      <th>3</th>\n",
       "      <td>4</td>\n",
       "      <td>0.001793</td>\n",
       "      <td>10.10.1.198</td>\n",
       "      <td>142.251.10.95</td>\n",
       "      <td>TLSv1.2</td>\n",
       "      <td>64468</td>\n",
       "      <td>Ignored Unknown Record</td>\n",
       "    </tr>\n",
       "    <tr>\n",
       "      <th>4</th>\n",
       "      <td>5</td>\n",
       "      <td>0.002340</td>\n",
       "      <td>10.10.1.198</td>\n",
       "      <td>142.251.10.95</td>\n",
       "      <td>TLSv1.2</td>\n",
       "      <td>64468</td>\n",
       "      <td>Ignored Unknown Record</td>\n",
       "    </tr>\n",
       "  </tbody>\n",
       "</table>\n",
       "</div>"
      ],
      "text/plain": [
       "   No.      Time       Source    Destination Protocol  Length  \\\n",
       "0    1  0.000000  10.10.1.198  142.251.10.95  TLSv1.2   64468   \n",
       "1    2  0.000548  10.10.1.198  142.251.10.95  TLSv1.2   64468   \n",
       "2    3  0.001245  10.10.1.198  142.251.10.95  TLSv1.2   64468   \n",
       "3    4  0.001793  10.10.1.198  142.251.10.95  TLSv1.2   64468   \n",
       "4    5  0.002340  10.10.1.198  142.251.10.95  TLSv1.2   64468   \n",
       "\n",
       "                     Info  \n",
       "0  Ignored Unknown Record  \n",
       "1  Ignored Unknown Record  \n",
       "2  Ignored Unknown Record  \n",
       "3  Ignored Unknown Record  \n",
       "4  Ignored Unknown Record  "
      ]
     },
     "execution_count": 65,
     "metadata": {},
     "output_type": "execute_result"
    }
   ],
   "source": [
    "df.head()"
   ]
  },
  {
   "cell_type": "code",
   "execution_count": 66,
   "metadata": {},
   "outputs": [],
   "source": [
    "# df['Info'].nunique()\n",
    "# df.tail()\n",
    "df = df.loc[df['Info'] != 'Ignored Unknown Record']"
   ]
  },
  {
   "cell_type": "code",
   "execution_count": 67,
   "metadata": {},
   "outputs": [
    {
     "data": {
      "text/html": [
       "<div>\n",
       "<style scoped>\n",
       "    .dataframe tbody tr th:only-of-type {\n",
       "        vertical-align: middle;\n",
       "    }\n",
       "\n",
       "    .dataframe tbody tr th {\n",
       "        vertical-align: top;\n",
       "    }\n",
       "\n",
       "    .dataframe thead th {\n",
       "        text-align: right;\n",
       "    }\n",
       "</style>\n",
       "<table border=\"1\" class=\"dataframe\">\n",
       "  <thead>\n",
       "    <tr style=\"text-align: right;\">\n",
       "      <th></th>\n",
       "      <th>No.</th>\n",
       "      <th>Time</th>\n",
       "      <th>Source</th>\n",
       "      <th>Destination</th>\n",
       "      <th>Protocol</th>\n",
       "      <th>Length</th>\n",
       "      <th>Info</th>\n",
       "    </tr>\n",
       "  </thead>\n",
       "  <tbody>\n",
       "    <tr>\n",
       "      <th>43</th>\n",
       "      <td>44</td>\n",
       "      <td>0.027037</td>\n",
       "      <td>142.251.10.95</td>\n",
       "      <td>10.10.1.198</td>\n",
       "      <td>TCP</td>\n",
       "      <td>80</td>\n",
       "      <td>443  &gt;  49476 [ACK] Seq=1 Ack=4294555477 Win=1...</td>\n",
       "    </tr>\n",
       "    <tr>\n",
       "      <th>44</th>\n",
       "      <td>45</td>\n",
       "      <td>0.027037</td>\n",
       "      <td>142.251.10.95</td>\n",
       "      <td>10.10.1.198</td>\n",
       "      <td>TCP</td>\n",
       "      <td>80</td>\n",
       "      <td>[TCP Dup ACK 44#1] 443  &gt;  49476 [ACK] Seq=1 A...</td>\n",
       "    </tr>\n",
       "    <tr>\n",
       "      <th>45</th>\n",
       "      <td>46</td>\n",
       "      <td>0.027037</td>\n",
       "      <td>142.251.10.95</td>\n",
       "      <td>10.10.1.198</td>\n",
       "      <td>TCP</td>\n",
       "      <td>80</td>\n",
       "      <td>[TCP Dup ACK 44#2] 443  &gt;  49476 [ACK] Seq=1 A...</td>\n",
       "    </tr>\n",
       "    <tr>\n",
       "      <th>48</th>\n",
       "      <td>49</td>\n",
       "      <td>0.027137</td>\n",
       "      <td>142.251.10.95</td>\n",
       "      <td>10.10.1.198</td>\n",
       "      <td>TCP</td>\n",
       "      <td>80</td>\n",
       "      <td>443  &gt;  49476 [ACK] Seq=1 Ack=4294556877 Win=1...</td>\n",
       "    </tr>\n",
       "    <tr>\n",
       "      <th>49</th>\n",
       "      <td>50</td>\n",
       "      <td>0.027137</td>\n",
       "      <td>142.251.10.95</td>\n",
       "      <td>10.10.1.198</td>\n",
       "      <td>TCP</td>\n",
       "      <td>88</td>\n",
       "      <td>[TCP Dup ACK 49#1] 443  &gt;  49476 [ACK] Seq=1 A...</td>\n",
       "    </tr>\n",
       "  </tbody>\n",
       "</table>\n",
       "</div>"
      ],
      "text/plain": [
       "    No.      Time         Source  Destination Protocol  Length  \\\n",
       "43   44  0.027037  142.251.10.95  10.10.1.198      TCP      80   \n",
       "44   45  0.027037  142.251.10.95  10.10.1.198      TCP      80   \n",
       "45   46  0.027037  142.251.10.95  10.10.1.198      TCP      80   \n",
       "48   49  0.027137  142.251.10.95  10.10.1.198      TCP      80   \n",
       "49   50  0.027137  142.251.10.95  10.10.1.198      TCP      88   \n",
       "\n",
       "                                                 Info  \n",
       "43  443  >  49476 [ACK] Seq=1 Ack=4294555477 Win=1...  \n",
       "44  [TCP Dup ACK 44#1] 443  >  49476 [ACK] Seq=1 A...  \n",
       "45  [TCP Dup ACK 44#2] 443  >  49476 [ACK] Seq=1 A...  \n",
       "48  443  >  49476 [ACK] Seq=1 Ack=4294556877 Win=1...  \n",
       "49  [TCP Dup ACK 49#1] 443  >  49476 [ACK] Seq=1 A...  "
      ]
     },
     "execution_count": 67,
     "metadata": {},
     "output_type": "execute_result"
    }
   ],
   "source": [
    "df.head()"
   ]
  },
  {
   "cell_type": "code",
   "execution_count": 68,
   "metadata": {},
   "outputs": [
    {
     "data": {
      "text/plain": [
       "No.            0\n",
       "Time           0\n",
       "Source         0\n",
       "Destination    0\n",
       "Protocol       0\n",
       "Length         0\n",
       "Info           0\n",
       "dtype: int64"
      ]
     },
     "execution_count": 68,
     "metadata": {},
     "output_type": "execute_result"
    }
   ],
   "source": [
    "df.isna().sum()"
   ]
  },
  {
   "cell_type": "code",
   "execution_count": 69,
   "metadata": {},
   "outputs": [
    {
     "data": {
      "text/plain": [
       "No.            247383\n",
       "Time            80128\n",
       "Source             18\n",
       "Destination        18\n",
       "Protocol            8\n",
       "Length            240\n",
       "Info           238237\n",
       "dtype: int64"
      ]
     },
     "execution_count": 69,
     "metadata": {},
     "output_type": "execute_result"
    }
   ],
   "source": [
    "df.nunique()"
   ]
  },
  {
   "cell_type": "code",
   "execution_count": 70,
   "metadata": {},
   "outputs": [
    {
     "name": "stdout",
     "output_type": "stream",
     "text": [
      "['142.251.10.95' '10.10.1.198' '202.79.184.254' '45.88.67.192'\n",
      " '18.155.68.17' '64.112.72.210' '45.170.130.82' '157.230.30.107'\n",
      " '185.246.220.83' '10.10.1.197' '64.112.72.94' '202.29.233.166'\n",
      " '61.177.173.24' '127.0.0.1' '91.189.94.4' '10.10.1.5' '127.0.0.53'\n",
      " '142.250.4.95']\n"
     ]
    }
   ],
   "source": [
    "uniqueValues = df['Source'].unique()\n",
    "print(uniqueValues)"
   ]
  },
  {
   "cell_type": "code",
   "execution_count": 71,
   "metadata": {},
   "outputs": [
    {
     "name": "stdout",
     "output_type": "stream",
     "text": [
      "['10.10.1.198' '142.251.10.95' '202.79.184.254' '18.155.68.17'\n",
      " '45.88.67.192' '64.112.72.210' '45.170.130.82' '157.230.30.107'\n",
      " '185.246.220.83' '10.10.1.197' '64.112.72.94' '202.29.233.166'\n",
      " '61.177.173.24' '127.0.0.1' '91.189.94.4' '127.0.0.53' '10.10.1.5'\n",
      " '142.250.4.95']\n"
     ]
    }
   ],
   "source": [
    "uniqueValues1 = df['Destination'].unique()\n",
    "print(uniqueValues1)"
   ]
  },
  {
   "cell_type": "code",
   "execution_count": 72,
   "metadata": {},
   "outputs": [
    {
     "name": "stdout",
     "output_type": "stream",
     "text": [
      "['TCP' 'TLSv1.2' 'HTTP' 'HTTP/JSON' 'SSHv2' 'NTP' 'DNS' 'TLSv1.3']\n"
     ]
    }
   ],
   "source": [
    "uniqueValues2 = df['Protocol'].unique()\n",
    "print(uniqueValues2)"
   ]
  },
  {
   "cell_type": "code",
   "execution_count": 73,
   "metadata": {},
   "outputs": [
    {
     "name": "stdout",
     "output_type": "stream",
     "text": [
      "[   80    88    96 64468 16474 17698 49286 10590 32880  1292  2964    68\n",
      "  1516  4412  2957  5694 27866   301    74    62    56   497  2552   126\n",
      "   318   214   556  4186 18268  2868 43468 21068  8120 13038 21746 51868\n",
      "  9868 12668 44868  7068  9344 34104 35704  1468 60268 26668 37868  6896\n",
      " 39376   338 16868 47668  9108 14262 47214 35328  4268 28068 29468 32268\n",
      " 33668 30868 42068 22468 46268 40668 56068  8468 58868  5668 63068 49068\n",
      "  2730 11814 29584  5860  7308  8756 10204 11652  1463  1942  2516 34480\n",
      " 16451 14548 15996 21788 20340 18892 13100 24684 17444  4351 19668 57468\n",
      " 61668 50468 11268 14068 13016  6918  9012 11792  7788   633  5672  4164\n",
      "  1895   631 55782  2673  3527   635   388  2310  3325   782   755  1326\n",
      "  1944   585  1769   387  1730  1972   491  2343 15468 25268 35068 39268\n",
      " 54668  8842 49168    60    71 23868 36468 53268  8490 63126  2562 15486\n",
      " 52110   353   340  3600  4676 13178  3740  7884  2018 64350   794 32762\n",
      " 10568 16850  5900 19298  2892 54558  5178  3954  8518 15464 50510  4470\n",
      " 25418   322  3591 10300  1528  5756  3452 38152  2988  9366 18074  6660\n",
      " 57006 51734 26642 10332  5436 14402  8142 59454 37406  1065   882   190\n",
      "   940   673    95  1010   962  1386  3628 22960   495 43045   496   341\n",
      "    92  3584 14400  5338 57004  1894  2672  3525  3326  1943  2311  1771\n",
      " 20520 16848 39374  7786   776   699   815 12544 37656    91   219   203\n",
      "    76   334  1940 56630 13274   132 30806  1667  6564 52958  8636  5930]\n"
     ]
    }
   ],
   "source": [
    "uniqueValues3 = df['Length'].unique()\n",
    "print(uniqueValues3)"
   ]
  },
  {
   "cell_type": "code",
   "execution_count": 74,
   "metadata": {},
   "outputs": [
    {
     "data": {
      "text/plain": [
       "9146"
      ]
     },
     "execution_count": 74,
     "metadata": {},
     "output_type": "execute_result"
    }
   ],
   "source": [
    "# uniqueValues = df['Info'].value_counts\n",
    "# print(uniqueValues)\n",
    "\n",
    "df['Info'].duplicated().sum()"
   ]
  },
  {
   "cell_type": "markdown",
   "metadata": {},
   "source": [
    "# Explore Data Analysis\n"
   ]
  },
  {
   "cell_type": "code",
   "execution_count": 75,
   "metadata": {},
   "outputs": [
    {
     "data": {
      "image/png": "[encoded data removed]",
      "text/plain": [
       "<Figure size 1200x600 with 2 Axes>"
      ]
     },
     "metadata": {},
     "output_type": "display_data"
    }
   ],
   "source": [
    "# Set style\n",
    "sns.set(style=\"whitegrid\")\n",
    "\n",
    "# Plot histogram for Time\n",
    "plt.figure(figsize=(12, 6))\n",
    "plt.subplot(1, 2, 1)\n",
    "sns.histplot(df['Time'], bins=50, kde=True, color='skyblue')\n",
    "plt.title('Distribution of Time')\n",
    "\n",
    "# Plot histogram for Length\n",
    "plt.subplot(1, 2, 2)\n",
    "sns.histplot(df['Length'], bins=50, kde=True, color='salmon')\n",
    "plt.title('Distribution of Length')\n",
    "\n",
    "plt.show()"
   ]
  },
  {
   "cell_type": "code",
   "execution_count": 76,
   "metadata": {},
   "outputs": [
    {
     "data": {
      "text/plain": [
       "(array([ 0,  1,  2,  3,  4,  5,  6,  7,  8,  9, 10, 11, 12, 13, 14, 15, 16,\n",
       "        17]),\n",
       " [Text(0, 0, '142.251.10.95'),\n",
       "  Text(1, 0, '10.10.1.198'),\n",
       "  Text(2, 0, '202.79.184.254'),\n",
       "  Text(3, 0, '45.88.67.192'),\n",
       "  Text(4, 0, '18.155.68.17'),\n",
       "  Text(5, 0, '64.112.72.210'),\n",
       "  Text(6, 0, '45.170.130.82'),\n",
       "  Text(7, 0, '157.230.30.107'),\n",
       "  Text(8, 0, '185.246.220.83'),\n",
       "  Text(9, 0, '10.10.1.197'),\n",
       "  Text(10, 0, '64.112.72.94'),\n",
       "  Text(11, 0, '202.29.233.166'),\n",
       "  Text(12, 0, '61.177.173.24'),\n",
       "  Text(13, 0, '127.0.0.1'),\n",
       "  Text(14, 0, '91.189.94.4'),\n",
       "  Text(15, 0, '10.10.1.5'),\n",
       "  Text(16, 0, '127.0.0.53'),\n",
       "  Text(17, 0, '142.250.4.95')])"
      ]
     },
     "execution_count": 76,
     "metadata": {},
     "output_type": "execute_result"
    },
    {
     "data": {
      "image/png": "[encoded data removed]",
      "text/plain": [
       "<Figure size 1600x800 with 1 Axes>"
      ]
     },
     "metadata": {},
     "output_type": "display_data"
    }
   ],
   "source": [
    "# Plot for Source\n",
    "plt.figure(figsize=(16, 8))\n",
    "plt.subplot(2, 2, 1)\n",
    "# sns.countplot(df['Source'], palette='viridis')\n",
    "sns.countplot(x='Source', data=df, palette='Set1')\n",
    "plt.title('Count of Source')\n",
    "plt.xticks(rotation=45)"
   ]
  },
  {
   "cell_type": "code",
   "execution_count": 77,
   "metadata": {},
   "outputs": [
    {
     "data": {
      "text/plain": [
       "(array([ 0,  1,  2,  3,  4,  5,  6,  7,  8,  9, 10, 11, 12, 13, 14, 15, 16,\n",
       "        17]),\n",
       " [Text(0, 0, '10.10.1.198'),\n",
       "  Text(1, 0, '142.251.10.95'),\n",
       "  Text(2, 0, '202.79.184.254'),\n",
       "  Text(3, 0, '18.155.68.17'),\n",
       "  Text(4, 0, '45.88.67.192'),\n",
       "  Text(5, 0, '64.112.72.210'),\n",
       "  Text(6, 0, '45.170.130.82'),\n",
       "  Text(7, 0, '157.230.30.107'),\n",
       "  Text(8, 0, '185.246.220.83'),\n",
       "  Text(9, 0, '10.10.1.197'),\n",
       "  Text(10, 0, '64.112.72.94'),\n",
       "  Text(11, 0, '202.29.233.166'),\n",
       "  Text(12, 0, '61.177.173.24'),\n",
       "  Text(13, 0, '127.0.0.1'),\n",
       "  Text(14, 0, '91.189.94.4'),\n",
       "  Text(15, 0, '127.0.0.53'),\n",
       "  Text(16, 0, '10.10.1.5'),\n",
       "  Text(17, 0, '142.250.4.95')])"
      ]
     },
     "execution_count": 77,
     "metadata": {},
     "output_type": "execute_result"
    },
    {
     "data": {
      "image/png": "[encoded data removed]",
      "text/plain": [
       "<Figure size 1600x800 with 1 Axes>"
      ]
     },
     "metadata": {},
     "output_type": "display_data"
    }
   ],
   "source": [
    "# Plot for Destination\n",
    "plt.figure(figsize=(16, 8))\n",
    "plt.subplot(2, 2, 2)\n",
    "sns.countplot(x='Destination', data=df, palette='plasma')\n",
    "plt.title('Count of Destination')\n",
    "plt.xticks(rotation=45)"
   ]
  },
  {
   "cell_type": "code",
   "execution_count": 78,
   "metadata": {},
   "outputs": [
    {
     "data": {
      "text/plain": [
       "(array([0, 1, 2, 3, 4, 5, 6, 7]),\n",
       " [Text(0, 0, 'TCP'),\n",
       "  Text(1, 0, 'TLSv1.2'),\n",
       "  Text(2, 0, 'HTTP'),\n",
       "  Text(3, 0, 'HTTP/JSON'),\n",
       "  Text(4, 0, 'SSHv2'),\n",
       "  Text(5, 0, 'NTP'),\n",
       "  Text(6, 0, 'DNS'),\n",
       "  Text(7, 0, 'TLSv1.3')])"
      ]
     },
     "execution_count": 78,
     "metadata": {},
     "output_type": "execute_result"
    },
    {
     "data": {
      "image/png": "[encoded data removed]",
      "text/plain": [
       "<Figure size 1600x800 with 1 Axes>"
      ]
     },
     "metadata": {},
     "output_type": "display_data"
    }
   ],
   "source": [
    "# Visualisasi countplot\n",
    "# Plot for Destination\n",
    "plt.figure(figsize=(16, 8))\n",
    "plt.subplot(2, 2, 2)\n",
    "sns.countplot(x='Protocol', data=df, palette='plasma')\n",
    "plt.title('Count of Protocol')\n",
    "plt.xticks(rotation=45)"
   ]
  },
  {
   "cell_type": "code",
   "execution_count": 79,
   "metadata": {},
   "outputs": [],
   "source": [
    "# # Plot for Info\n",
    "# plt.figure(figsize=(16, 8))\n",
    "# plt.subplot(2, 2, 4)\n",
    "# sns.countplot(x='Info', data=df, palette='inferno')\n",
    "# plt.title('Count of Info')\n",
    "# plt.xticks(rotation=45)\n",
    "# # plt.tight_layout()\n",
    "# # plt.show()"
   ]
  },
  {
   "cell_type": "code",
   "execution_count": 80,
   "metadata": {},
   "outputs": [
    {
     "data": {
      "text/plain": [
       "247383"
      ]
     },
     "execution_count": 80,
     "metadata": {},
     "output_type": "execute_result"
    }
   ],
   "source": [
    "len(df['Protocol'])"
   ]
  },
  {
   "cell_type": "code",
   "execution_count": 81,
   "metadata": {},
   "outputs": [
    {
     "data": {
      "text/plain": [
       "TCP          238259\n",
       "TLSv1.2        8973\n",
       "HTTP             79\n",
       "HTTP/JSON        55\n",
       "DNS               8\n",
       "TLSv1.3           4\n",
       "SSHv2             3\n",
       "NTP               2\n",
       "Name: Protocol, dtype: int64"
      ]
     },
     "execution_count": 81,
     "metadata": {},
     "output_type": "execute_result"
    }
   ],
   "source": [
    "df['Protocol'].value_counts()"
   ]
  },
  {
   "cell_type": "code",
   "execution_count": 82,
   "metadata": {},
   "outputs": [
    {
     "data": {
      "text/plain": [
       "142.251.10.95     235986\n",
       "10.10.1.198        10158\n",
       "202.79.184.254       950\n",
       "10.10.1.197          129\n",
       "127.0.0.1             45\n",
       "64.112.72.210         43\n",
       "64.112.72.94          12\n",
       "61.177.173.24         10\n",
       "157.230.30.107         8\n",
       "45.88.67.192           8\n",
       "185.246.220.83         7\n",
       "202.29.233.166         7\n",
       "18.155.68.17           6\n",
       "142.250.4.95           5\n",
       "45.170.130.82          4\n",
       "10.10.1.5              2\n",
       "127.0.0.53             2\n",
       "91.189.94.4            1\n",
       "Name: Source, dtype: int64"
      ]
     },
     "execution_count": 82,
     "metadata": {},
     "output_type": "execute_result"
    }
   ],
   "source": [
    "df['Source'].value_counts()"
   ]
  },
  {
   "cell_type": "code",
   "execution_count": 83,
   "metadata": {},
   "outputs": [],
   "source": [
    "# Visualisasi countplot\n",
    "# sns.set(style=\"darkgrid\")  # Opsi styling, opsional\n",
    "# plt.figure(figsize=(8, 6))  # Opsi untuk mengatur ukuran plot\n",
    "\n",
    "# sns.countplot(x='Destination', data=df, palette='Set1')  # 'Category' adalah kolom yang ingin dihitung\n",
    "\n",
    "# plt.title('Countplot of Destination')\n",
    "# plt.xticks(rotation=45)  #\n",
    "# plt.show()"
   ]
  },
  {
   "cell_type": "code",
   "execution_count": 84,
   "metadata": {},
   "outputs": [
    {
     "data": {
      "text/plain": [
       "10.10.1.198       237178\n",
       "142.251.10.95       9489\n",
       "202.79.184.254       450\n",
       "10.10.1.197          106\n",
       "127.0.0.1             45\n",
       "64.112.72.210         43\n",
       "64.112.72.94          13\n",
       "45.88.67.192           8\n",
       "157.230.30.107         8\n",
       "61.177.173.24          8\n",
       "185.246.220.83         7\n",
       "18.155.68.17           7\n",
       "202.29.233.166         7\n",
       "142.250.4.95           6\n",
       "45.170.130.82          3\n",
       "127.0.0.53             2\n",
       "10.10.1.5              2\n",
       "91.189.94.4            1\n",
       "Name: Destination, dtype: int64"
      ]
     },
     "execution_count": 84,
     "metadata": {},
     "output_type": "execute_result"
    }
   ],
   "source": [
    "df['Destination'].value_counts()"
   ]
  },
  {
   "cell_type": "code",
   "execution_count": 85,
   "metadata": {},
   "outputs": [],
   "source": [
    "dfgroupby = df.groupby('Protocol').agg({\n",
    "                                            'Destination' : 'count',\n",
    "                                            'Source' : 'count'\n",
    "                                                                    }).reset_index()"
   ]
  },
  {
   "cell_type": "code",
   "execution_count": 86,
   "metadata": {},
   "outputs": [
    {
     "data": {
      "text/html": [
       "<div>\n",
       "<style scoped>\n",
       "    .dataframe tbody tr th:only-of-type {\n",
       "        vertical-align: middle;\n",
       "    }\n",
       "\n",
       "    .dataframe tbody tr th {\n",
       "        vertical-align: top;\n",
       "    }\n",
       "\n",
       "    .dataframe thead th {\n",
       "        text-align: right;\n",
       "    }\n",
       "</style>\n",
       "<table border=\"1\" class=\"dataframe\">\n",
       "  <thead>\n",
       "    <tr style=\"text-align: right;\">\n",
       "      <th></th>\n",
       "      <th>Protocol</th>\n",
       "      <th>Destination</th>\n",
       "      <th>Source</th>\n",
       "    </tr>\n",
       "  </thead>\n",
       "  <tbody>\n",
       "    <tr>\n",
       "      <th>0</th>\n",
       "      <td>DNS</td>\n",
       "      <td>8</td>\n",
       "      <td>8</td>\n",
       "    </tr>\n",
       "    <tr>\n",
       "      <th>1</th>\n",
       "      <td>HTTP</td>\n",
       "      <td>79</td>\n",
       "      <td>79</td>\n",
       "    </tr>\n",
       "    <tr>\n",
       "      <th>2</th>\n",
       "      <td>HTTP/JSON</td>\n",
       "      <td>55</td>\n",
       "      <td>55</td>\n",
       "    </tr>\n",
       "    <tr>\n",
       "      <th>3</th>\n",
       "      <td>NTP</td>\n",
       "      <td>2</td>\n",
       "      <td>2</td>\n",
       "    </tr>\n",
       "    <tr>\n",
       "      <th>4</th>\n",
       "      <td>SSHv2</td>\n",
       "      <td>3</td>\n",
       "      <td>3</td>\n",
       "    </tr>\n",
       "    <tr>\n",
       "      <th>5</th>\n",
       "      <td>TCP</td>\n",
       "      <td>238259</td>\n",
       "      <td>238259</td>\n",
       "    </tr>\n",
       "    <tr>\n",
       "      <th>6</th>\n",
       "      <td>TLSv1.2</td>\n",
       "      <td>8973</td>\n",
       "      <td>8973</td>\n",
       "    </tr>\n",
       "    <tr>\n",
       "      <th>7</th>\n",
       "      <td>TLSv1.3</td>\n",
       "      <td>4</td>\n",
       "      <td>4</td>\n",
       "    </tr>\n",
       "  </tbody>\n",
       "</table>\n",
       "</div>"
      ],
      "text/plain": [
       "    Protocol  Destination  Source\n",
       "0        DNS            8       8\n",
       "1       HTTP           79      79\n",
       "2  HTTP/JSON           55      55\n",
       "3        NTP            2       2\n",
       "4      SSHv2            3       3\n",
       "5        TCP       238259  238259\n",
       "6    TLSv1.2         8973    8973\n",
       "7    TLSv1.3            4       4"
      ]
     },
     "execution_count": 86,
     "metadata": {},
     "output_type": "execute_result"
    }
   ],
   "source": [
    "dfgroupby"
   ]
  },
  {
   "cell_type": "code",
   "execution_count": 87,
   "metadata": {},
   "outputs": [],
   "source": [
    "dfgroupby2 = df.groupby([ 'Protocol', 'Source', 'Destination',]).agg({\n",
    "                                            'No.' : 'count'\n",
    "                                                                    }).reset_index()"
   ]
  },
  {
   "cell_type": "code",
   "execution_count": 88,
   "metadata": {},
   "outputs": [],
   "source": [
    "# Rename kolom\n",
    "dfgroupby2.rename(columns={'Protocol' : 'Protocol','Destination': 'Destination', 'Source': 'Source',  'No.' :'Jumlah'}, inplace=True)"
   ]
  },
  {
   "cell_type": "code",
   "execution_count": 89,
   "metadata": {},
   "outputs": [
    {
     "data": {
      "text/html": [
       "<div>\n",
       "<style scoped>\n",
       "    .dataframe tbody tr th:only-of-type {\n",
       "        vertical-align: middle;\n",
       "    }\n",
       "\n",
       "    .dataframe tbody tr th {\n",
       "        vertical-align: top;\n",
       "    }\n",
       "\n",
       "    .dataframe thead th {\n",
       "        text-align: right;\n",
       "    }\n",
       "</style>\n",
       "<table border=\"1\" class=\"dataframe\">\n",
       "  <thead>\n",
       "    <tr style=\"text-align: right;\">\n",
       "      <th></th>\n",
       "      <th>Protocol</th>\n",
       "      <th>Source</th>\n",
       "      <th>Destination</th>\n",
       "      <th>Jumlah</th>\n",
       "    </tr>\n",
       "  </thead>\n",
       "  <tbody>\n",
       "    <tr>\n",
       "      <th>0</th>\n",
       "      <td>DNS</td>\n",
       "      <td>10.10.1.198</td>\n",
       "      <td>10.10.1.5</td>\n",
       "      <td>2</td>\n",
       "    </tr>\n",
       "    <tr>\n",
       "      <th>1</th>\n",
       "      <td>DNS</td>\n",
       "      <td>10.10.1.5</td>\n",
       "      <td>10.10.1.198</td>\n",
       "      <td>2</td>\n",
       "    </tr>\n",
       "    <tr>\n",
       "      <th>2</th>\n",
       "      <td>DNS</td>\n",
       "      <td>127.0.0.1</td>\n",
       "      <td>127.0.0.53</td>\n",
       "      <td>2</td>\n",
       "    </tr>\n",
       "    <tr>\n",
       "      <th>3</th>\n",
       "      <td>DNS</td>\n",
       "      <td>127.0.0.53</td>\n",
       "      <td>127.0.0.1</td>\n",
       "      <td>2</td>\n",
       "    </tr>\n",
       "    <tr>\n",
       "      <th>4</th>\n",
       "      <td>HTTP</td>\n",
       "      <td>10.10.1.197</td>\n",
       "      <td>10.10.1.198</td>\n",
       "      <td>55</td>\n",
       "    </tr>\n",
       "    <tr>\n",
       "      <th>5</th>\n",
       "      <td>HTTP</td>\n",
       "      <td>10.10.1.198</td>\n",
       "      <td>202.79.184.254</td>\n",
       "      <td>3</td>\n",
       "    </tr>\n",
       "    <tr>\n",
       "      <th>6</th>\n",
       "      <td>HTTP</td>\n",
       "      <td>127.0.0.1</td>\n",
       "      <td>127.0.0.1</td>\n",
       "      <td>12</td>\n",
       "    </tr>\n",
       "    <tr>\n",
       "      <th>7</th>\n",
       "      <td>HTTP</td>\n",
       "      <td>202.79.184.254</td>\n",
       "      <td>10.10.1.198</td>\n",
       "      <td>9</td>\n",
       "    </tr>\n",
       "    <tr>\n",
       "      <th>8</th>\n",
       "      <td>HTTP/JSON</td>\n",
       "      <td>10.10.1.198</td>\n",
       "      <td>10.10.1.197</td>\n",
       "      <td>55</td>\n",
       "    </tr>\n",
       "    <tr>\n",
       "      <th>9</th>\n",
       "      <td>NTP</td>\n",
       "      <td>10.10.1.198</td>\n",
       "      <td>91.189.94.4</td>\n",
       "      <td>1</td>\n",
       "    </tr>\n",
       "    <tr>\n",
       "      <th>10</th>\n",
       "      <td>NTP</td>\n",
       "      <td>91.189.94.4</td>\n",
       "      <td>10.10.1.198</td>\n",
       "      <td>1</td>\n",
       "    </tr>\n",
       "    <tr>\n",
       "      <th>11</th>\n",
       "      <td>SSHv2</td>\n",
       "      <td>61.177.173.24</td>\n",
       "      <td>10.10.1.198</td>\n",
       "      <td>3</td>\n",
       "    </tr>\n",
       "    <tr>\n",
       "      <th>12</th>\n",
       "      <td>TCP</td>\n",
       "      <td>10.10.1.197</td>\n",
       "      <td>10.10.1.198</td>\n",
       "      <td>74</td>\n",
       "    </tr>\n",
       "    <tr>\n",
       "      <th>13</th>\n",
       "      <td>TCP</td>\n",
       "      <td>10.10.1.198</td>\n",
       "      <td>10.10.1.197</td>\n",
       "      <td>51</td>\n",
       "    </tr>\n",
       "    <tr>\n",
       "      <th>14</th>\n",
       "      <td>TCP</td>\n",
       "      <td>10.10.1.198</td>\n",
       "      <td>142.250.4.95</td>\n",
       "      <td>4</td>\n",
       "    </tr>\n",
       "    <tr>\n",
       "      <th>15</th>\n",
       "      <td>TCP</td>\n",
       "      <td>10.10.1.198</td>\n",
       "      <td>142.251.10.95</td>\n",
       "      <td>586</td>\n",
       "    </tr>\n",
       "    <tr>\n",
       "      <th>16</th>\n",
       "      <td>TCP</td>\n",
       "      <td>10.10.1.198</td>\n",
       "      <td>157.230.30.107</td>\n",
       "      <td>8</td>\n",
       "    </tr>\n",
       "    <tr>\n",
       "      <th>17</th>\n",
       "      <td>TCP</td>\n",
       "      <td>10.10.1.198</td>\n",
       "      <td>18.155.68.17</td>\n",
       "      <td>4</td>\n",
       "    </tr>\n",
       "    <tr>\n",
       "      <th>18</th>\n",
       "      <td>TCP</td>\n",
       "      <td>10.10.1.198</td>\n",
       "      <td>185.246.220.83</td>\n",
       "      <td>7</td>\n",
       "    </tr>\n",
       "    <tr>\n",
       "      <th>19</th>\n",
       "      <td>TCP</td>\n",
       "      <td>10.10.1.198</td>\n",
       "      <td>202.29.233.166</td>\n",
       "      <td>7</td>\n",
       "    </tr>\n",
       "    <tr>\n",
       "      <th>20</th>\n",
       "      <td>TCP</td>\n",
       "      <td>10.10.1.198</td>\n",
       "      <td>202.79.184.254</td>\n",
       "      <td>447</td>\n",
       "    </tr>\n",
       "    <tr>\n",
       "      <th>21</th>\n",
       "      <td>TCP</td>\n",
       "      <td>10.10.1.198</td>\n",
       "      <td>45.170.130.82</td>\n",
       "      <td>3</td>\n",
       "    </tr>\n",
       "    <tr>\n",
       "      <th>22</th>\n",
       "      <td>TCP</td>\n",
       "      <td>10.10.1.198</td>\n",
       "      <td>45.88.67.192</td>\n",
       "      <td>8</td>\n",
       "    </tr>\n",
       "    <tr>\n",
       "      <th>23</th>\n",
       "      <td>TCP</td>\n",
       "      <td>10.10.1.198</td>\n",
       "      <td>61.177.173.24</td>\n",
       "      <td>8</td>\n",
       "    </tr>\n",
       "    <tr>\n",
       "      <th>24</th>\n",
       "      <td>TCP</td>\n",
       "      <td>10.10.1.198</td>\n",
       "      <td>64.112.72.210</td>\n",
       "      <td>43</td>\n",
       "    </tr>\n",
       "    <tr>\n",
       "      <th>25</th>\n",
       "      <td>TCP</td>\n",
       "      <td>10.10.1.198</td>\n",
       "      <td>64.112.72.94</td>\n",
       "      <td>13</td>\n",
       "    </tr>\n",
       "    <tr>\n",
       "      <th>26</th>\n",
       "      <td>TCP</td>\n",
       "      <td>127.0.0.1</td>\n",
       "      <td>127.0.0.1</td>\n",
       "      <td>31</td>\n",
       "    </tr>\n",
       "    <tr>\n",
       "      <th>27</th>\n",
       "      <td>TCP</td>\n",
       "      <td>142.250.4.95</td>\n",
       "      <td>10.10.1.198</td>\n",
       "      <td>3</td>\n",
       "    </tr>\n",
       "    <tr>\n",
       "      <th>28</th>\n",
       "      <td>TCP</td>\n",
       "      <td>142.251.10.95</td>\n",
       "      <td>10.10.1.198</td>\n",
       "      <td>235921</td>\n",
       "    </tr>\n",
       "    <tr>\n",
       "      <th>29</th>\n",
       "      <td>TCP</td>\n",
       "      <td>157.230.30.107</td>\n",
       "      <td>10.10.1.198</td>\n",
       "      <td>8</td>\n",
       "    </tr>\n",
       "    <tr>\n",
       "      <th>30</th>\n",
       "      <td>TCP</td>\n",
       "      <td>18.155.68.17</td>\n",
       "      <td>10.10.1.198</td>\n",
       "      <td>4</td>\n",
       "    </tr>\n",
       "    <tr>\n",
       "      <th>31</th>\n",
       "      <td>TCP</td>\n",
       "      <td>185.246.220.83</td>\n",
       "      <td>10.10.1.198</td>\n",
       "      <td>7</td>\n",
       "    </tr>\n",
       "    <tr>\n",
       "      <th>32</th>\n",
       "      <td>TCP</td>\n",
       "      <td>202.29.233.166</td>\n",
       "      <td>10.10.1.198</td>\n",
       "      <td>7</td>\n",
       "    </tr>\n",
       "    <tr>\n",
       "      <th>33</th>\n",
       "      <td>TCP</td>\n",
       "      <td>202.79.184.254</td>\n",
       "      <td>10.10.1.198</td>\n",
       "      <td>941</td>\n",
       "    </tr>\n",
       "    <tr>\n",
       "      <th>34</th>\n",
       "      <td>TCP</td>\n",
       "      <td>45.170.130.82</td>\n",
       "      <td>10.10.1.198</td>\n",
       "      <td>4</td>\n",
       "    </tr>\n",
       "    <tr>\n",
       "      <th>35</th>\n",
       "      <td>TCP</td>\n",
       "      <td>45.88.67.192</td>\n",
       "      <td>10.10.1.198</td>\n",
       "      <td>8</td>\n",
       "    </tr>\n",
       "    <tr>\n",
       "      <th>36</th>\n",
       "      <td>TCP</td>\n",
       "      <td>61.177.173.24</td>\n",
       "      <td>10.10.1.198</td>\n",
       "      <td>7</td>\n",
       "    </tr>\n",
       "    <tr>\n",
       "      <th>37</th>\n",
       "      <td>TCP</td>\n",
       "      <td>64.112.72.210</td>\n",
       "      <td>10.10.1.198</td>\n",
       "      <td>43</td>\n",
       "    </tr>\n",
       "    <tr>\n",
       "      <th>38</th>\n",
       "      <td>TCP</td>\n",
       "      <td>64.112.72.94</td>\n",
       "      <td>10.10.1.198</td>\n",
       "      <td>12</td>\n",
       "    </tr>\n",
       "    <tr>\n",
       "      <th>39</th>\n",
       "      <td>TLSv1.2</td>\n",
       "      <td>10.10.1.198</td>\n",
       "      <td>142.251.10.95</td>\n",
       "      <td>8903</td>\n",
       "    </tr>\n",
       "    <tr>\n",
       "      <th>40</th>\n",
       "      <td>TLSv1.2</td>\n",
       "      <td>10.10.1.198</td>\n",
       "      <td>18.155.68.17</td>\n",
       "      <td>3</td>\n",
       "    </tr>\n",
       "    <tr>\n",
       "      <th>41</th>\n",
       "      <td>TLSv1.2</td>\n",
       "      <td>142.251.10.95</td>\n",
       "      <td>10.10.1.198</td>\n",
       "      <td>65</td>\n",
       "    </tr>\n",
       "    <tr>\n",
       "      <th>42</th>\n",
       "      <td>TLSv1.2</td>\n",
       "      <td>18.155.68.17</td>\n",
       "      <td>10.10.1.198</td>\n",
       "      <td>2</td>\n",
       "    </tr>\n",
       "    <tr>\n",
       "      <th>43</th>\n",
       "      <td>TLSv1.3</td>\n",
       "      <td>10.10.1.198</td>\n",
       "      <td>142.250.4.95</td>\n",
       "      <td>2</td>\n",
       "    </tr>\n",
       "    <tr>\n",
       "      <th>44</th>\n",
       "      <td>TLSv1.3</td>\n",
       "      <td>142.250.4.95</td>\n",
       "      <td>10.10.1.198</td>\n",
       "      <td>2</td>\n",
       "    </tr>\n",
       "  </tbody>\n",
       "</table>\n",
       "</div>"
      ],
      "text/plain": [
       "     Protocol          Source     Destination  Jumlah\n",
       "0         DNS     10.10.1.198       10.10.1.5       2\n",
       "1         DNS       10.10.1.5     10.10.1.198       2\n",
       "2         DNS       127.0.0.1      127.0.0.53       2\n",
       "3         DNS      127.0.0.53       127.0.0.1       2\n",
       "4        HTTP     10.10.1.197     10.10.1.198      55\n",
       "5        HTTP     10.10.1.198  202.79.184.254       3\n",
       "6        HTTP       127.0.0.1       127.0.0.1      12\n",
       "7        HTTP  202.79.184.254     10.10.1.198       9\n",
       "8   HTTP/JSON     10.10.1.198     10.10.1.197      55\n",
       "9         NTP     10.10.1.198     91.189.94.4       1\n",
       "10        NTP     91.189.94.4     10.10.1.198       1\n",
       "11      SSHv2   61.177.173.24     10.10.1.198       3\n",
       "12        TCP     10.10.1.197     10.10.1.198      74\n",
       "13        TCP     10.10.1.198     10.10.1.197      51\n",
       "14        TCP     10.10.1.198    142.250.4.95       4\n",
       "15        TCP     10.10.1.198   142.251.10.95     586\n",
       "16        TCP     10.10.1.198  157.230.30.107       8\n",
       "17        TCP     10.10.1.198    18.155.68.17       4\n",
       "18        TCP     10.10.1.198  185.246.220.83       7\n",
       "19        TCP     10.10.1.198  202.29.233.166       7\n",
       "20        TCP     10.10.1.198  202.79.184.254     447\n",
       "21        TCP     10.10.1.198   45.170.130.82       3\n",
       "22        TCP     10.10.1.198    45.88.67.192       8\n",
       "23        TCP     10.10.1.198   61.177.173.24       8\n",
       "24        TCP     10.10.1.198   64.112.72.210      43\n",
       "25        TCP     10.10.1.198    64.112.72.94      13\n",
       "26        TCP       127.0.0.1       127.0.0.1      31\n",
       "27        TCP    142.250.4.95     10.10.1.198       3\n",
       "28        TCP   142.251.10.95     10.10.1.198  235921\n",
       "29        TCP  157.230.30.107     10.10.1.198       8\n",
       "30        TCP    18.155.68.17     10.10.1.198       4\n",
       "31        TCP  185.246.220.83     10.10.1.198       7\n",
       "32        TCP  202.29.233.166     10.10.1.198       7\n",
       "33        TCP  202.79.184.254     10.10.1.198     941\n",
       "34        TCP   45.170.130.82     10.10.1.198       4\n",
       "35        TCP    45.88.67.192     10.10.1.198       8\n",
       "36        TCP   61.177.173.24     10.10.1.198       7\n",
       "37        TCP   64.112.72.210     10.10.1.198      43\n",
       "38        TCP    64.112.72.94     10.10.1.198      12\n",
       "39    TLSv1.2     10.10.1.198   142.251.10.95    8903\n",
       "40    TLSv1.2     10.10.1.198    18.155.68.17       3\n",
       "41    TLSv1.2   142.251.10.95     10.10.1.198      65\n",
       "42    TLSv1.2    18.155.68.17     10.10.1.198       2\n",
       "43    TLSv1.3     10.10.1.198    142.250.4.95       2\n",
       "44    TLSv1.3    142.250.4.95     10.10.1.198       2"
      ]
     },
     "execution_count": 89,
     "metadata": {},
     "output_type": "execute_result"
    }
   ],
   "source": [
    "dfgroupby2"
   ]
  },
  {
   "cell_type": "markdown",
   "metadata": {},
   "source": [
    "dari data diatas source (142.251.10.95) yang menuju ke destination (10.10.1.198) yang paling banyak menggunakan protocol TCP. Karena Protocol TCP sering digunakan karena menawarkan kepastian pengiriman data, pengiriman data dalam urutan yang benar, mekanisme flow control, koneksi-oriented, dukungan untuk mode full-duplex, dan kompatibilitas dengan berbagai aplikasi tingkat tinggi seperti web, transfer file, dan email. Meskipun memiliki beberapa overhead, TCP umumnya dipilih untuk aplikasi yang memerlukan keandalan dan keintiman urutan data dalam komunikasi jaringan. Pilihan antara TCP dan UDP tergantung pada kebutuhan khusus aplikasi atau layanan yang diinginkan, dengan UDP seringkali dipilih untuk situasi di mana latensi yang rendah lebih diutamakan daripada keandalan."
   ]
  },
  {
   "cell_type": "code",
   "execution_count": 90,
   "metadata": {},
   "outputs": [],
   "source": [
    "# Membagi data menjadi fitur (X) dan label (y)\n",
    "X = df.drop('Info', axis=1)\n",
    "y = df['Info'].values"
   ]
  },
  {
   "cell_type": "code",
   "execution_count": 91,
   "metadata": {},
   "outputs": [],
   "source": [
    "# Melakukan label encoding pada kolom kategorikal\n",
    "label_encoder = LabelEncoder()\n",
    "X['Source'] = label_encoder.fit_transform(X['Source'])\n",
    "X['Destination'] = label_encoder.fit_transform(X['Destination'])\n",
    "X['Protocol'] = label_encoder.fit_transform(X['Protocol'])"
   ]
  },
  {
   "cell_type": "code",
   "execution_count": 92,
   "metadata": {},
   "outputs": [],
   "source": [
    "y = label_encoder.fit_transform(y)\n"
   ]
  },
  {
   "cell_type": "code",
   "execution_count": 93,
   "metadata": {},
   "outputs": [
    {
     "data": {
      "text/plain": [
       "array([   652, 195974, 195975, ...,  68782, 181640, 181641])"
      ]
     },
     "execution_count": 93,
     "metadata": {},
     "output_type": "execute_result"
    }
   ],
   "source": [
    "y"
   ]
  },
  {
   "cell_type": "code",
   "execution_count": 94,
   "metadata": {},
   "outputs": [],
   "source": [
    "# Membagi data menjadi set pelatihan dan pengujian\n",
    "X_train, X_test, y_train, y_test = train_test_split(X, y, test_size=0.2, random_state=42)"
   ]
  },
  {
   "cell_type": "code",
   "execution_count": 95,
   "metadata": {},
   "outputs": [
    {
     "data": {
      "text/plain": [
       "array([193228, 102828, 141509, ...,  90761, 181031, 231689])"
      ]
     },
     "execution_count": 95,
     "metadata": {},
     "output_type": "execute_result"
    }
   ],
   "source": [
    "y_test"
   ]
  },
  {
   "cell_type": "code",
   "execution_count": 96,
   "metadata": {},
   "outputs": [
    {
     "name": "stdout",
     "output_type": "stream",
     "text": [
      "Unique labels in data: 238237\n",
      "Unique labels in y_train: 190570\n",
      "Unique labels in y_test: 47701\n"
     ]
    }
   ],
   "source": [
    "# # Melakukan label encoding pada kolom 'Info'\n",
    "# label_encoder = LabelEncoder()\n",
    "# y_train_encoded = label_encoder.fit_transform(y_train)\n",
    "# y_test_encoded = label_encoder.transform(y_test)\n",
    "unique_labels_data = df['Info'].unique()\n",
    "unique_labels_train = np.unique(y_train)\n",
    "unique_labels_test = np.unique(y_test)\n",
    "\n",
    "print(\"Unique labels in data:\", len(unique_labels_data))\n",
    "print(\"Unique labels in y_train:\", len(unique_labels_train))\n",
    "print(\"Unique labels in y_test:\", len(unique_labels_test))\n",
    "\n"
   ]
  },
  {
   "cell_type": "code",
   "execution_count": 97,
   "metadata": {},
   "outputs": [
    {
     "name": "stdout",
     "output_type": "stream",
     "text": [
      "Missing labels in y_train: 238237\n",
      "Missing labels in y_test: 238237\n",
      "Example missing labels in y_train: ['[TCP Dup ACK 247457#30] 443  >  49476 [ACK] Seq=32603 Ack=463919948 Win=15361 Len=0 TSval=4249696707 TSecr=3916736663 SLE=464029366 SRE=464034966 SLE=464073596 SRE=464074996 SLE=464086196 SRE=464091796', '443  >  49476 [ACK] Seq=2575 Ack=51871935 Win=15361 Len=0 TSval=4249646761 TSecr=3916686714 SLE=52130935 SRE=52132335 SLE=52105735 SRE=52107135 SLE=52101535 SRE=52102935', '[TCP Dup ACK 163318#1] 443  >  49476 [ACK] Seq=15445 Ack=305845797 Win=15361 Len=0 TSval=4249680015 TSecr=3916719969 SLE=306087997 SRE=306089397 SLE=306104797 SRE=306106197 SLE=306037597 SRE=306038997', '[TCP Dup ACK 149235#2] 443  >  49476 [ACK] Seq=14158 Ack=279037915 Win=15361 Len=0 TSval=4249678644 TSecr=3916718596 SLE=279102315 SRE=279103715 SLE=279215715 SRE=279217115 SLE=279098115 SRE=279100915', '[TCP Dup ACK 2453#1] 443  >  49476 [ACK] Seq=1 Ack=4173119 Win=15361 Len=0 TSval=4249642712 TSecr=3916682665 SLE=4355119 SRE=4356519 SLE=4352319 SRE=4353719 SLE=4275319 SRE=4276719', '[TCP Dup ACK 70091#2] 443  >  49476 [ACK] Seq=6436 Ack=129785951 Win=15361 Len=0 TSval=4249660555 TSecr=3916700509 SLE=130043551 SRE=130044951 SLE=130023951 SRE=130025351 SLE=129980551 SRE=129983351', '[TCP Dup ACK 194979#5] 443  >  49476 [ACK] Seq=26691 Ack=364544535 Win=15361 Len=0 TSval=4249686524 TSecr=3916726477 SLE=364757335 SRE=364762935 SLE=364741935 SRE=364743335 SLE=364625735 SRE=364627135', '[TCP Dup ACK 14794#3] 443  >  49476 [ACK] Seq=1288 Ack=27752053 Win=15361 Len=0 TSval=4249644761 TSecr=3916684715 SLE=27886453 SRE=27887853 SLE=28008253 SRE=28009653 SLE=27950853 SRE=27952253', '[TCP Dup ACK 116045#4] 443  >  49476 [ACK] Seq=10726 Ack=216989213 Win=15361 Len=0 TSval=4249671762 TSecr=3916711716 SLE=217210221 SRE=217211621 SLE=217099813 SRE=217104013 SLE=217207421 SRE=217208821', '[TCP Dup ACK 181034#2] 443  >  49476 [ACK] Seq=17161 Ack=338257525 Win=15361 Len=0 TSval=4249681880 TSecr=3916721833 SLE=338387725 SRE=338389125 SLE=338520725 SRE=338522125 SLE=338499725 SRE=338501125']\n",
      "Example missing labels in y_test: ['[TCP Dup ACK 247457#30] 443  >  49476 [ACK] Seq=32603 Ack=463919948 Win=15361 Len=0 TSval=4249696707 TSecr=3916736663 SLE=464029366 SRE=464034966 SLE=464073596 SRE=464074996 SLE=464086196 SRE=464091796', '443  >  49476 [ACK] Seq=2575 Ack=51871935 Win=15361 Len=0 TSval=4249646761 TSecr=3916686714 SLE=52130935 SRE=52132335 SLE=52105735 SRE=52107135 SLE=52101535 SRE=52102935', '[TCP Dup ACK 149235#2] 443  >  49476 [ACK] Seq=14158 Ack=279037915 Win=15361 Len=0 TSval=4249678644 TSecr=3916718596 SLE=279102315 SRE=279103715 SLE=279215715 SRE=279217115 SLE=279098115 SRE=279100915', '[TCP Dup ACK 163318#1] 443  >  49476 [ACK] Seq=15445 Ack=305845797 Win=15361 Len=0 TSval=4249680015 TSecr=3916719969 SLE=306087997 SRE=306089397 SLE=306104797 SRE=306106197 SLE=306037597 SRE=306038997', '[TCP Dup ACK 2453#1] 443  >  49476 [ACK] Seq=1 Ack=4173119 Win=15361 Len=0 TSval=4249642712 TSecr=3916682665 SLE=4355119 SRE=4356519 SLE=4352319 SRE=4353719 SLE=4275319 SRE=4276719', '[TCP Dup ACK 70091#2] 443  >  49476 [ACK] Seq=6436 Ack=129785951 Win=15361 Len=0 TSval=4249660555 TSecr=3916700509 SLE=130043551 SRE=130044951 SLE=130023951 SRE=130025351 SLE=129980551 SRE=129983351', '[TCP Dup ACK 194979#5] 443  >  49476 [ACK] Seq=26691 Ack=364544535 Win=15361 Len=0 TSval=4249686524 TSecr=3916726477 SLE=364757335 SRE=364762935 SLE=364741935 SRE=364743335 SLE=364625735 SRE=364627135', '[TCP Dup ACK 14794#3] 443  >  49476 [ACK] Seq=1288 Ack=27752053 Win=15361 Len=0 TSval=4249644761 TSecr=3916684715 SLE=27886453 SRE=27887853 SLE=28008253 SRE=28009653 SLE=27950853 SRE=27952253', '[TCP Dup ACK 116045#4] 443  >  49476 [ACK] Seq=10726 Ack=216989213 Win=15361 Len=0 TSval=4249671762 TSecr=3916711716 SLE=217210221 SRE=217211621 SLE=217099813 SRE=217104013 SLE=217207421 SRE=217208821', '[TCP Dup ACK 181034#2] 443  >  49476 [ACK] Seq=17161 Ack=338257525 Win=15361 Len=0 TSval=4249681880 TSecr=3916721833 SLE=338387725 SRE=338389125 SLE=338520725 SRE=338522125 SLE=338499725 SRE=338501125']\n"
     ]
    }
   ],
   "source": [
    "missing_labels_train = set(unique_labels_data) - set(unique_labels_train)\n",
    "missing_labels_test = set(unique_labels_data) - set(unique_labels_test)\n",
    "\n",
    "print(\"Missing labels in y_train:\", len(missing_labels_train))\n",
    "print(\"Missing labels in y_test:\", len(missing_labels_test))\n",
    "\n",
    "print(\"Example missing labels in y_train:\", list(missing_labels_train)[:10])\n",
    "print(\"Example missing labels in y_test:\", list(missing_labels_test)[:10])\n"
   ]
  },
  {
   "cell_type": "code",
   "execution_count": 98,
   "metadata": {},
   "outputs": [],
   "source": [
    "# # Mengonversi label-label yang hilang pada y_train\n",
    "# for label in missing_labels_train:\n",
    "#     if label not in label_encoder.classes_:\n",
    "#         label_encoder.classes_ = np.append(label_encoder.classes_, label)\n",
    "\n",
    "# # Mengonversi label-label yang hilang pada y_test\n",
    "# for label in missing_labels_test:\n",
    "#     if label not in label_encoder.classes_:\n",
    "#         label_encoder.classes_ = np.append(label_encoder.classes_, label)\n",
    "\n",
    "# # Melakukan label encoding pada kolom 'Info'\n",
    "# y_train_encoded = label_encoder.transform(y_train)\n",
    "# y_test_encoded = label_encoder.transform(y_test)\n"
   ]
  },
  {
   "cell_type": "code",
   "execution_count": 99,
   "metadata": {},
   "outputs": [
    {
     "name": "stdout",
     "output_type": "stream",
     "text": [
      "['443  >  49476 [ACK] Seq=1 Ack=4294555477 Win=15361 Len=0 TSval=4249642662 TSecr=3916682239 SLE=4294563795 SRE=4294565195'\n",
      " '[TCP Dup ACK 44#1] 443  >  49476 [ACK] Seq=1 Ack=4294555477 Win=15361 Len=0 TSval=4249642662 TSecr=3916682239 SLE=4294563795 SRE=4294566595'\n",
      " '[TCP Dup ACK 44#2] 443  >  49476 [ACK] Seq=1 Ack=4294555477 Win=15361 Len=0 TSval=4249642662 TSecr=3916682239 SLE=4294563795 SRE=4294567995'\n",
      " '443  >  49476 [ACK] Seq=1 Ack=4294556877 Win=15361 Len=0 TSval=4249642662 TSecr=3916682620 SLE=4294563795 SRE=4294569395'\n",
      " '[TCP Dup ACK 49#1] 443  >  49476 [ACK] Seq=1 Ack=4294556877 Win=15361 Len=0 TSval=4249642663 TSecr=3916682620 SLE=4294580201 SRE=4294581601 SLE=4294563795 SRE=4294569395'\n",
      " '[TCP Dup ACK 49#2] 443  >  49476 [ACK] Seq=1 Ack=4294556877 Win=15361 Len=0 TSval=4249642663 TSecr=3916682620 SLE=4294562395 SRE=4294569395 SLE=4294580201 SRE=4294581601'\n",
      " '[TCP Dup ACK 49#3] 443  >  49476 [ACK] Seq=1 Ack=4294556877 Win=15361 Len=0 TSval=4249642663 TSecr=3916682620 SLE=4294583001 SRE=4294585801 SLE=4294562395 SRE=4294569395 SLE=4294580201 SRE=4294581601'\n",
      " '[TCP Dup ACK 49#4] 443  >  49476 [ACK] Seq=1 Ack=4294556877 Win=15361 Len=0 TSval=4249642663 TSecr=3916682620 SLE=4294573595 SRE=4294574995 SLE=4294570795 SRE=4294572195 SLE=4294583001 SRE=4294585801'\n",
      " '[TCP Dup ACK 49#5] 443  >  49476 [ACK] Seq=1 Ack=4294556877 Win=15361 Len=0 TSval=4249642663 TSecr=3916682620 SLE=4294592801 SRE=4294595601 SLE=4294573595 SRE=4294574995 SLE=4294570795 SRE=4294572195'\n",
      " '[TCP Dup ACK 49#6] 443  >  49476 [ACK] Seq=1 Ack=4294556877 Win=15361 Len=0 TSval=4249642663 TSecr=3916682620 SLE=4294592801 SRE=4294597001 SLE=4294576001 SRE=4294577401 SLE=4294573595 SRE=4294574995']\n"
     ]
    }
   ],
   "source": [
    "print(df['Info'].unique()[:10])\n"
   ]
  },
  {
   "cell_type": "markdown",
   "metadata": {},
   "source": [
    "## Modelling\n"
   ]
  },
  {
   "cell_type": "code",
   "execution_count": 100,
   "metadata": {},
   "outputs": [],
   "source": [
    "# # Membuat model neural network sederhana\n",
    "# model = tf.keras.Sequential([\n",
    "#     tf.keras.layers.Dense(64, activation='relu', input_shape=(X_train.shape[1],1)),\n",
    "#     tf.keras.layers.Dense(32, activation='relu'),\n",
    "#     tf.keras.layers.Dense(len(df['Info'].unique()), activation='softmax')  # Output layer\n",
    "# ])"
   ]
  },
  {
   "cell_type": "code",
   "execution_count": 101,
   "metadata": {},
   "outputs": [],
   "source": [
    "# model.compile(optimizer='adam', loss='sparse_categorical_crossentropy', metrics=['accuracy'])"
   ]
  },
  {
   "cell_type": "code",
   "execution_count": 102,
   "metadata": {},
   "outputs": [],
   "source": [
    "# # Melatih model\n",
    "# # model.fit(X_train, y_train, epochs=10, batch_size=32, validation_data=(X_test, y_test))\n",
    "# # Melatih model\n",
    "# model.fit(X_train, y_train, epochs=10, batch_size=32, validation_data=(X_test, y_test))"
   ]
  },
  {
   "cell_type": "code",
   "execution_count": 103,
   "metadata": {},
   "outputs": [],
   "source": [
    "from sklearn.metrics import r2_score\n",
    "from sklearn.metrics import mean_squared_error\n",
    "from sklearn.metrics import mean_absolute_error\n",
    "from sklearn.metrics import mean_squared_error\n",
    "import math"
   ]
  },
  {
   "cell_type": "code",
   "execution_count": 104,
   "metadata": {},
   "outputs": [],
   "source": [
    "def score(model):\n",
    "    modell=model()\n",
    "    print('Model:',model)\n",
    "    print('-'*20)\n",
    "    modell.fit(X_train,y_train)\n",
    "    preds=modell.predict(X_test)\n",
    "    \n",
    "    # print(\"RMSE :\",np.sqrt(mean_squared_error(y_test,preds)))\n",
    "    # print('r2_score:',r2_score(y_test,preds))\n",
    "\n",
    "    print(\"Mean absolute error (MAE): %f\"%mean_absolute_error(y_test, preds))\n",
    "    print(\"Mean Squared error (MSE): %f\"%mean_squared_error(y_test, preds))\n",
    "    print(\"Roots Mean Squared error (RMSE): %f\"%math.sqrt(mean_squared_error(y_test, preds)))\n",
    "    print(\"R2 Score: %f\"%r2_score(y_test, preds))\n",
    "    \n",
    "    plt.figure(figsize=(7,6))\n",
    "    plt.scatter(x=y_test,y=preds,color='red')\n",
    "    plt.title('Actuals vs Predictions',fontsize=14)\n",
    "    plt.xlabel('Actuals',fontsize=14)\n",
    "    plt.ylabel('predictions',fontsize=14)"
   ]
  },
  {
   "cell_type": "code",
   "execution_count": 105,
   "metadata": {},
   "outputs": [
    {
     "name": "stdout",
     "output_type": "stream",
     "text": [
      "Model: <class 'xgboost.sklearn.XGBRegressor'>\n",
      "--------------------\n",
      "Mean absolute error (MAE): 45741.692357\n",
      "Mean Squared error (MSE): 3011351896.892169\n",
      "Roots Mean Squared error (RMSE): 54875.786071\n",
      "R2 Score: 0.350288\n"
     ]
    },
    {
     "data": {
      "image/png": "[encoded data removed]",
      "text/plain": [
       "<Figure size 700x600 with 1 Axes>"
      ]
     },
     "metadata": {},
     "output_type": "display_data"
    }
   ],
   "source": [
    "# MODELING XGBOOST REGRESSOR\n",
    "\n",
    "from xgboost import XGBRegressor\n",
    "score(XGBRegressor)"
   ]
  },
  {
   "cell_type": "code",
   "execution_count": null,
   "metadata": {},
   "outputs": [],
   "source": []
  }
 ],
 "metadata": {
  "kernelspec": {
   "display_name": "Python 3",
   "language": "python",
   "name": "python3"
  },
  "language_info": {
   "codemirror_mode": {
    "name": "ipython",
    "version": 3
   },
   "file_extension": ".py",
   "mimetype": "text/x-python",
   "name": "python",
   "nbconvert_exporter": "python",
   "pygments_lexer": "ipython3",
   "version": "3.10.7"
  }
 },
 "nbformat": 4,
 "nbformat_minor": 2
}
